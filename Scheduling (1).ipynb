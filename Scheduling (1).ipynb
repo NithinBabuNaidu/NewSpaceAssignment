{
 "cells": [
  {
   "cell_type": "code",
   "execution_count": 341,
   "metadata": {},
   "outputs": [],
   "source": [
    "import csv\n",
    "import pandas as pd\n",
    "import random"
   ]
  },
  {
   "cell_type": "code",
   "execution_count": 342,
   "metadata": {},
   "outputs": [],
   "source": [
    "df = pd.read_csv('Test_Data_1.csv') #Reads CSV File\n",
    "count = pd.value_counts(df['User'].values) #Gives sorted count of messages for individual users\n",
    "users = df['User'].unique() #Gives a list of users\n",
    "no_of_users = users.size #Gives total number of users"
   ]
  },
  {
   "cell_type": "code",
   "execution_count": 343,
   "metadata": {},
   "outputs": [],
   "source": [
    "dictionary = dict(count) #Converts the df to dictionary"
   ]
  },
  {
   "cell_type": "code",
   "execution_count": 344,
   "metadata": {},
   "outputs": [
    {
     "name": "stdout",
     "output_type": "stream",
     "text": [
      "28\n"
     ]
    }
   ],
   "source": [
    "sum_of_messages = df.shape[0] #Total number of messages\n",
    "#print (sum_of_messages)"
   ]
  },
  {
   "cell_type": "code",
   "execution_count": 349,
   "metadata": {},
   "outputs": [],
   "source": [
    "list_=[]\n",
    "dictionary_=dictionary.copy() #back up of data dictionary \n",
    "for i in range (0, sum_of_messages - 1):\n",
    "    for  v in dictionary_.keys():\n",
    "        if(dictionary_[v]>0):\n",
    "            list_.append(v) #to append the user sequence\n",
    "            #print(list_)\n",
    "            dictionary_[v]=dictionary_[v]-1 #decrementing the key value of each user"
   ]
  },
  {
   "cell_type": "code",
   "execution_count": 350,
   "metadata": {},
   "outputs": [],
   "source": [
    "def listToString(s): \n",
    "    str1 = \"\" \n",
    "    return (str1.join(s)) #To convert the list to String"
   ]
  },
  {
   "cell_type": "code",
   "execution_count": 351,
   "metadata": {},
   "outputs": [
    {
     "name": "stdout",
     "output_type": "stream",
     "text": [
      "BCADFXEBCADFXBCADFXBCADBCADB\n"
     ]
    }
   ],
   "source": [
    "print(listToString(list_)) "
   ]
  }
 ],
 "metadata": {
  "kernelspec": {
   "display_name": "Python 3",
   "language": "python",
   "name": "python3"
  },
  "language_info": {
   "codemirror_mode": {
    "name": "ipython",
    "version": 3
   },
   "file_extension": ".py",
   "mimetype": "text/x-python",
   "name": "python",
   "nbconvert_exporter": "python",
   "pygments_lexer": "ipython3",
   "version": "3.8.5"
  }
 },
 "nbformat": 4,
 "nbformat_minor": 4
}
